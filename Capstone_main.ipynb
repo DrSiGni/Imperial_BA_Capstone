{
 "cells": [
  {
   "cell_type": "markdown",
   "id": "e60ba26a-8fa6-481b-bf46-4787a0fcf707",
   "metadata": {
    "panel-layout": {
     "height": 60.57500457763672,
     "visible": true,
     "width": 100
    }
   },
   "source": [
    "# Capstone"
   ]
  },
  {
   "cell_type": "markdown",
   "id": "e492ef69-1d3b-4416-af37-c96cf0d4c145",
   "metadata": {
    "panel-layout": {
     "height": 50.8125,
     "visible": true,
     "width": 100
    }
   },
   "source": [
    "## Part 1 - Analytics on Raw Data"
   ]
  },
  {
   "cell_type": "code",
   "execution_count": 1,
   "id": "e08e6965-aaed-4920-bcef-998b95380bb8",
   "metadata": {},
   "outputs": [],
   "source": [
    "import glob\n",
    "import pandas as pd\n",
    "import numpy as np\n",
    "import matplotlib.pyplot as plt"
   ]
  },
  {
   "cell_type": "code",
   "execution_count": 2,
   "id": "6dd2d857-403f-4dc6-80a7-fe9296414259",
   "metadata": {
    "editable": true,
    "slideshow": {
     "slide_type": ""
    },
    "tags": []
   },
   "outputs": [],
   "source": [
    "all_files = glob.glob(\"Raw_Data/*.csv\")\n",
    "df = pd.concat((pd.read_csv(f) for f in all_files))"
   ]
  },
  {
   "cell_type": "markdown",
   "id": "1003313f-d403-4c63-b804-2d69349860f5",
   "metadata": {
    "panel-layout": {
     "height": 51.13750076293945,
     "visible": true,
     "width": 100
    }
   },
   "source": [
    "**Basic checks have been done on the data to make sure everything is generally ok; nothing has been missed**"
   ]
  },
  {
   "cell_type": "code",
   "execution_count": 3,
   "id": "3defddea-9944-48d3-8f28-7eca3ff01aa0",
   "metadata": {},
   "outputs": [],
   "source": [
    "# df.head()\n",
    "# df[['YEAR', 'MONTH']].drop_duplicates().sort_values(['YEAR', 'MONTH'])"
   ]
  },
  {
   "cell_type": "markdown",
   "id": "2de2d62f-809a-43e0-aa58-6cf00c828e29",
   "metadata": {
    "panel-layout": {
     "height": 148.8249969482422,
     "visible": true,
     "width": 100
    }
   },
   "source": [
    "**We will also do some data cleanup in this section:**\n",
    "* We will filter to only the columns that are of interest to us for this Capstone project\n",
    "* Only Ancorage origin airport will be looked at\n",
    "* The actual carrier descriptions will be shown\n",
    "* Cancellation code descriptions will be shown\n",
    "* Delays over 60 minutes will be looked at - a respective column will be added to the data"
   ]
  },
  {
   "cell_type": "code",
   "execution_count": 4,
   "id": "02fb034b-0005-4770-a67a-49cea5ebaf04",
   "metadata": {},
   "outputs": [],
   "source": [
    "# Columns that will be kept for analysis\n",
    "columns_to_keep =  [\n",
    "    \"YEAR\",\n",
    "    \"QUARTER\",\n",
    "    \"MONTH\",\n",
    "    \"DAY_OF_MONTH\",\n",
    "    \"DAY_OF_WEEK\",\n",
    "    \"OP_UNIQUE_CARRIER\",\n",
    "    \"TAIL_NUM\",\n",
    "    \"OP_CARRIER_FL_NUM\",\n",
    "    \"ORIGIN\",\n",
    "    \"DEST\",\n",
    "    \"CRS_DEP_TIME\",\n",
    "    \"CRS_ARR_TIME\",\n",
    "    \"CANCELLED\",\n",
    "    \"CANCELLATION_CODE\",\n",
    "    \"DIVERTED\",\n",
    "    \"AIR_TIME\",\n",
    "    \"DISTANCE\",\n",
    "    \"CARRIER_DELAY\",\n",
    "    \"WEATHER_DELAY\",\n",
    "    \"NAS_DELAY\",\n",
    "    \"SECURITY_DELAY\",\n",
    "    \"LATE_AIRCRAFT_DELAY\" ]\n",
    "\n",
    "# Delay threshold of 60 mins\n",
    "delay_threshold = 60\n",
    "\n",
    "# Filtering & Replacing\n",
    "df1 = df.copy()\n",
    "df1 = df1[columns_to_keep]\n",
    "df1 = df1[df1['ORIGIN'] == 'ANC']\n",
    "df1['OP_UNIQUE_CARRIER'] = df1['OP_UNIQUE_CARRIER'].replace(['AS', 'DL', 'UA', 'AA'], ['Alaska Airlines', 'Delta', 'United', 'American Airlines'])\n",
    "df1['CANCELLATION_CODE'] = df1['CANCELLATION_CODE'].replace(['A', 'B', 'C'], ['Carrier', 'Weather', 'National Air System'])\n",
    "\n",
    "# Create totals & classification of the delay\n",
    "df1['TOTAL_DELAY'] = df1[\"CARRIER_DELAY\"] + df1[\"WEATHER_DELAY\"] + df1[\"NAS_DELAY\"] + df1[\"SECURITY_DELAY\"] + df1[\"LATE_AIRCRAFT_DELAY\"]\n",
    "df1['CRITICAL_DELAY'] = np.where(\n",
    "    (df1['TOTAL_DELAY'] >= delay_threshold) | \n",
    "    (df1['CANCELLED'] == 1) | \n",
    "    (df1['DIVERTED'] == 1),\n",
    "    1,  # if true\n",
    "    0   # else\n",
    ")"
   ]
  },
  {
   "cell_type": "code",
   "execution_count": 5,
   "id": "fe2fd5bc-0e57-47b7-85df-ae0eef4f5f52",
   "metadata": {
    "panel-layout": {
     "height": 184.40000915527344,
     "visible": true,
     "width": 100
    }
   },
   "outputs": [
    {
     "data": {
      "text/html": [
       "<div>\n",
       "<style scoped>\n",
       "    .dataframe tbody tr th:only-of-type {\n",
       "        vertical-align: middle;\n",
       "    }\n",
       "\n",
       "    .dataframe tbody tr th {\n",
       "        vertical-align: top;\n",
       "    }\n",
       "\n",
       "    .dataframe thead th {\n",
       "        text-align: right;\n",
       "    }\n",
       "</style>\n",
       "<table border=\"1\" class=\"dataframe\">\n",
       "  <thead>\n",
       "    <tr style=\"text-align: right;\">\n",
       "      <th></th>\n",
       "      <th>YEAR</th>\n",
       "      <th>QUARTER</th>\n",
       "      <th>MONTH</th>\n",
       "      <th>DAY_OF_MONTH</th>\n",
       "      <th>DAY_OF_WEEK</th>\n",
       "      <th>OP_UNIQUE_CARRIER</th>\n",
       "      <th>TAIL_NUM</th>\n",
       "      <th>OP_CARRIER_FL_NUM</th>\n",
       "      <th>ORIGIN</th>\n",
       "      <th>DEST</th>\n",
       "      <th>...</th>\n",
       "      <th>DIVERTED</th>\n",
       "      <th>AIR_TIME</th>\n",
       "      <th>DISTANCE</th>\n",
       "      <th>CARRIER_DELAY</th>\n",
       "      <th>WEATHER_DELAY</th>\n",
       "      <th>NAS_DELAY</th>\n",
       "      <th>SECURITY_DELAY</th>\n",
       "      <th>LATE_AIRCRAFT_DELAY</th>\n",
       "      <th>TOTAL_DELAY</th>\n",
       "      <th>CRITICAL_DELAY</th>\n",
       "    </tr>\n",
       "  </thead>\n",
       "  <tbody>\n",
       "    <tr>\n",
       "      <th>0</th>\n",
       "      <td>2023</td>\n",
       "      <td>1</td>\n",
       "      <td>1</td>\n",
       "      <td>1</td>\n",
       "      <td>7</td>\n",
       "      <td>American Airlines</td>\n",
       "      <td>N434AN</td>\n",
       "      <td>399</td>\n",
       "      <td>ANC</td>\n",
       "      <td>DFW</td>\n",
       "      <td>...</td>\n",
       "      <td>0.0</td>\n",
       "      <td>381.0</td>\n",
       "      <td>3043.0</td>\n",
       "      <td>NaN</td>\n",
       "      <td>NaN</td>\n",
       "      <td>NaN</td>\n",
       "      <td>NaN</td>\n",
       "      <td>NaN</td>\n",
       "      <td>NaN</td>\n",
       "      <td>0</td>\n",
       "    </tr>\n",
       "    <tr>\n",
       "      <th>3</th>\n",
       "      <td>2023</td>\n",
       "      <td>1</td>\n",
       "      <td>1</td>\n",
       "      <td>1</td>\n",
       "      <td>7</td>\n",
       "      <td>Alaska Airlines</td>\n",
       "      <td>N215AK</td>\n",
       "      <td>92</td>\n",
       "      <td>ANC</td>\n",
       "      <td>SEA</td>\n",
       "      <td>...</td>\n",
       "      <td>0.0</td>\n",
       "      <td>196.0</td>\n",
       "      <td>1448.0</td>\n",
       "      <td>0.0</td>\n",
       "      <td>0.0</td>\n",
       "      <td>18.0</td>\n",
       "      <td>0.0</td>\n",
       "      <td>0.0</td>\n",
       "      <td>18.0</td>\n",
       "      <td>0</td>\n",
       "    </tr>\n",
       "    <tr>\n",
       "      <th>7</th>\n",
       "      <td>2023</td>\n",
       "      <td>1</td>\n",
       "      <td>1</td>\n",
       "      <td>1</td>\n",
       "      <td>7</td>\n",
       "      <td>Alaska Airlines</td>\n",
       "      <td>N265AK</td>\n",
       "      <td>573</td>\n",
       "      <td>ANC</td>\n",
       "      <td>SEA</td>\n",
       "      <td>...</td>\n",
       "      <td>0.0</td>\n",
       "      <td>194.0</td>\n",
       "      <td>1448.0</td>\n",
       "      <td>0.0</td>\n",
       "      <td>0.0</td>\n",
       "      <td>16.0</td>\n",
       "      <td>0.0</td>\n",
       "      <td>0.0</td>\n",
       "      <td>16.0</td>\n",
       "      <td>0</td>\n",
       "    </tr>\n",
       "    <tr>\n",
       "      <th>8</th>\n",
       "      <td>2023</td>\n",
       "      <td>1</td>\n",
       "      <td>1</td>\n",
       "      <td>1</td>\n",
       "      <td>7</td>\n",
       "      <td>Alaska Airlines</td>\n",
       "      <td>N267AK</td>\n",
       "      <td>170</td>\n",
       "      <td>ANC</td>\n",
       "      <td>FAI</td>\n",
       "      <td>...</td>\n",
       "      <td>0.0</td>\n",
       "      <td>39.0</td>\n",
       "      <td>261.0</td>\n",
       "      <td>NaN</td>\n",
       "      <td>NaN</td>\n",
       "      <td>NaN</td>\n",
       "      <td>NaN</td>\n",
       "      <td>NaN</td>\n",
       "      <td>NaN</td>\n",
       "      <td>0</td>\n",
       "    </tr>\n",
       "    <tr>\n",
       "      <th>10</th>\n",
       "      <td>2023</td>\n",
       "      <td>1</td>\n",
       "      <td>1</td>\n",
       "      <td>1</td>\n",
       "      <td>7</td>\n",
       "      <td>Alaska Airlines</td>\n",
       "      <td>N267AK</td>\n",
       "      <td>722</td>\n",
       "      <td>ANC</td>\n",
       "      <td>ORD</td>\n",
       "      <td>...</td>\n",
       "      <td>0.0</td>\n",
       "      <td>345.0</td>\n",
       "      <td>2846.0</td>\n",
       "      <td>18.0</td>\n",
       "      <td>0.0</td>\n",
       "      <td>20.0</td>\n",
       "      <td>0.0</td>\n",
       "      <td>0.0</td>\n",
       "      <td>38.0</td>\n",
       "      <td>0</td>\n",
       "    </tr>\n",
       "  </tbody>\n",
       "</table>\n",
       "<p>5 rows × 24 columns</p>\n",
       "</div>"
      ],
      "text/plain": [
       "    YEAR  QUARTER  MONTH  DAY_OF_MONTH  DAY_OF_WEEK  OP_UNIQUE_CARRIER  \\\n",
       "0   2023        1      1             1            7  American Airlines   \n",
       "3   2023        1      1             1            7    Alaska Airlines   \n",
       "7   2023        1      1             1            7    Alaska Airlines   \n",
       "8   2023        1      1             1            7    Alaska Airlines   \n",
       "10  2023        1      1             1            7    Alaska Airlines   \n",
       "\n",
       "   TAIL_NUM  OP_CARRIER_FL_NUM ORIGIN DEST  ...  DIVERTED  AIR_TIME  DISTANCE  \\\n",
       "0    N434AN                399    ANC  DFW  ...       0.0     381.0    3043.0   \n",
       "3    N215AK                 92    ANC  SEA  ...       0.0     196.0    1448.0   \n",
       "7    N265AK                573    ANC  SEA  ...       0.0     194.0    1448.0   \n",
       "8    N267AK                170    ANC  FAI  ...       0.0      39.0     261.0   \n",
       "10   N267AK                722    ANC  ORD  ...       0.0     345.0    2846.0   \n",
       "\n",
       "   CARRIER_DELAY  WEATHER_DELAY  NAS_DELAY  SECURITY_DELAY  \\\n",
       "0            NaN            NaN        NaN             NaN   \n",
       "3            0.0            0.0       18.0             0.0   \n",
       "7            0.0            0.0       16.0             0.0   \n",
       "8            NaN            NaN        NaN             NaN   \n",
       "10          18.0            0.0       20.0             0.0   \n",
       "\n",
       "    LATE_AIRCRAFT_DELAY  TOTAL_DELAY  CRITICAL_DELAY  \n",
       "0                   NaN          NaN               0  \n",
       "3                   0.0         18.0               0  \n",
       "7                   0.0         16.0               0  \n",
       "8                   NaN          NaN               0  \n",
       "10                  0.0         38.0               0  \n",
       "\n",
       "[5 rows x 24 columns]"
      ]
     },
     "execution_count": 5,
     "metadata": {},
     "output_type": "execute_result"
    }
   ],
   "source": [
    "df1.head()"
   ]
  },
  {
   "cell_type": "code",
   "execution_count": 6,
   "id": "2c299e9d-a036-442a-ab28-43b55936a2ef",
   "metadata": {
    "panel-layout": {
     "height": 116.4000015258789,
     "visible": true,
     "width": 100
    }
   },
   "outputs": [
    {
     "data": {
      "text/plain": [
       "CRITICAL_DELAY\n",
       "0    0.943643\n",
       "1    0.056357\n",
       "Name: proportion, dtype: float64"
      ]
     },
     "execution_count": 6,
     "metadata": {},
     "output_type": "execute_result"
    }
   ],
   "source": [
    "#df1['OP_UNIQUE_CARRIER'].value_counts()\n",
    "#df1['CANCELLATION_CODE'].value_counts()\n",
    "#df1['CANCELLED'].value_counts()\n",
    "#df1['DIVERTED'].value_counts()\n",
    "df1['CRITICAL_DELAY'].value_counts(normalize = True)"
   ]
  },
  {
   "cell_type": "code",
   "execution_count": null,
   "id": "ce4c1d6b-9cb0-4a7c-9917-8c63e8269a98",
   "metadata": {},
   "outputs": [],
   "source": []
  }
 ],
 "metadata": {
  "kernelspec": {
   "display_name": "Python 3 (ipykernel)",
   "language": "python",
   "name": "python3"
  },
  "language_info": {
   "codemirror_mode": {
    "name": "ipython",
    "version": 3
   },
   "file_extension": ".py",
   "mimetype": "text/x-python",
   "name": "python",
   "nbconvert_exporter": "python",
   "pygments_lexer": "ipython3",
   "version": "3.13.5"
  },
  "panel-cell-order": [
   "e60ba26a-8fa6-481b-bf46-4787a0fcf707",
   "e492ef69-1d3b-4416-af37-c96cf0d4c145",
   "1003313f-d403-4c63-b804-2d69349860f5",
   "2de2d62f-809a-43e0-aa58-6cf00c828e29",
   "fe2fd5bc-0e57-47b7-85df-ae0eef4f5f52",
   "2c299e9d-a036-442a-ab28-43b55936a2ef"
  ]
 },
 "nbformat": 4,
 "nbformat_minor": 5
}
